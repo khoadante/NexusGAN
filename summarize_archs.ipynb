{
 "cells": [
  {
   "cell_type": "code",
   "execution_count": null,
   "metadata": {},
   "outputs": [],
   "source": [
    "from torchinfo import summary"
   ]
  },
  {
   "cell_type": "code",
   "execution_count": null,
   "metadata": {},
   "outputs": [],
   "source": [
    "from networks.nexusgan.models import Generator as NG, Discriminator as ND\n",
    "from networks.realesrgan.models import Generator as RG, Discriminator as RD"
   ]
  },
  {
   "cell_type": "markdown",
   "metadata": {},
   "source": [
    "Real-ESRGAN G: 16,697,987 parameters\n",
    "Real-ESRGAN D: 4,376,897 parameters\n",
    "\n",
    "A-ESRGAN G: 4,627,459 parameters\n",
    "A-ESRGAN D: 5,399,044 parameters\n",
    "\n",
    "NexusGAN G: 1,332,705 parameters\n",
    "NexusGAN D: 967,970 parameters"
   ]
  },
  {
   "cell_type": "code",
   "execution_count": null,
   "metadata": {},
   "outputs": [],
   "source": [
    "summary(RG(), (1, 3, 64, 64))"
   ]
  },
  {
   "cell_type": "code",
   "execution_count": null,
   "metadata": {},
   "outputs": [],
   "source": [
    "summary(NG(), (1, 3, 64, 64))"
   ]
  },
  {
   "cell_type": "code",
   "execution_count": null,
   "metadata": {},
   "outputs": [],
   "source": [
    "summary(RD(), (1, 3, 256, 256))"
   ]
  },
  {
   "cell_type": "code",
   "execution_count": null,
   "metadata": {},
   "outputs": [],
   "source": [
    "summary(ND(), (1, 3, 256, 256))"
   ]
  }
 ],
 "metadata": {
  "interpreter": {
   "hash": "8c0c7ad0fa442355047f22b10f82a342bf341b62d96f1aecdf1ddbb2f8fb54e5"
  },
  "kernelspec": {
   "display_name": "Python 3.9.12 ('nexus')",
   "language": "python",
   "name": "python3"
  },
  "language_info": {
   "codemirror_mode": {
    "name": "ipython",
    "version": 3
   },
   "file_extension": ".py",
   "mimetype": "text/x-python",
   "name": "python",
   "nbconvert_exporter": "python",
   "pygments_lexer": "ipython3",
   "version": "3.9.12"
  },
  "orig_nbformat": 4
 },
 "nbformat": 4,
 "nbformat_minor": 2
}
